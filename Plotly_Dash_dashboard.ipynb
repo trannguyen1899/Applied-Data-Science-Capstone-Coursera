{
  "nbformat": 4,
  "nbformat_minor": 0,
  "metadata": {
    "colab": {
      "provenance": []
    },
    "kernelspec": {
      "name": "python3",
      "display_name": "Python 3"
    },
    "language_info": {
      "name": "python"
    },
    "gpuClass": "standard"
  },
  "cells": [
    {
      "cell_type": "code",
      "execution_count": 1,
      "metadata": {
        "id": "pp24LW-rZBGo"
      },
      "outputs": [],
      "source": [
        "# !pip install dash -q\n",
        "!pip install jupyter-dash -q\n",
        "!pip install dash-cytoscape -q"
      ]
    },
    {
      "cell_type": "code",
      "source": [
        "# Import required libraries\n",
        "import pandas as pd\n",
        "from jupyter_dash import JupyterDash\n",
        "import dash_cytoscape as cyto\n",
        "# import dash\n",
        "import dash_html_components as html\n",
        "import dash_core_components as dcc\n",
        "from dash.dependencies import Input, Output\n",
        "import plotly.express as px"
      ],
      "metadata": {
        "id": "r5eUocmqZnpB",
        "colab": {
          "base_uri": "https://localhost:8080/",
          "height": 163
        },
        "outputId": "ea5e0920-dbd3-446e-b87c-486b627ba4af"
      },
      "execution_count": 2,
      "outputs": [
        {
          "output_type": "stream",
          "name": "stderr",
          "text": [
            "<ipython-input-2-e24f7fce6839>:6: UserWarning: \n",
            "The dash_html_components package is deprecated. Please replace\n",
            "`import dash_html_components as html` with `from dash import html`\n",
            "  import dash_html_components as html\n",
            "<ipython-input-2-e24f7fce6839>:7: UserWarning: \n",
            "The dash_core_components package is deprecated. Please replace\n",
            "`import dash_core_components as dcc` with `from dash import dcc`\n",
            "  import dash_core_components as dcc\n"
          ]
        }
      ]
    },
    {
      "cell_type": "code",
      "source": [
        "url = \"https://cf-courses-data.s3.us.cloud-object-storage.appdomain.cloud/IBM-DS0321EN-SkillsNetwork/datasets/spacex_launch_dash.csv\"\n",
        "\n",
        "# Read the airline data into pandas dataframe\n",
        "spacex_df = pd.read_csv(url)\n",
        "max_payload = spacex_df['Payload Mass (kg)'].max()\n",
        "min_payload = spacex_df['Payload Mass (kg)'].min()"
      ],
      "metadata": {
        "id": "k0tT9WVqZoG3"
      },
      "execution_count": 3,
      "outputs": []
    },
    {
      "cell_type": "code",
      "source": [
        "# Create a dash application\n",
        "# app = dash.Dash(__name__)\n",
        "app = JupyterDash(__name__)\n",
        "\n",
        "# Create an app layout\n",
        "app.layout = html.Div(children=[html.H1('SpaceX Launch Records Dashboard',\n",
        "                                        style={'textAlign': 'center', 'color': '#503D36',\n",
        "                                               'font-size': 40}),\n",
        "                                # TASK 1: Add a dropdown list to enable Launch Site selection\n",
        "                                # The default select value is for ALL sites\n",
        "                                dcc.Dropdown(id='site-dropdown',\n",
        "                                            options=[\n",
        "                                                         {'label': 'ALL SITES', 'value': 'ALL'},\n",
        "                                                         {'label': 'CCAFS LC-40', 'value': 'CCAFS LC-40'},\n",
        "                                                         {'label': 'VAFB SLC-4E', 'value': 'VAFB SLC-4E'},\n",
        "                                                         {'label': 'KSC LC-39A', 'value': 'KSC LC-39A'},\n",
        "                                                         {'label': 'CCAFS SLC-40', 'value': 'CCAFS SLC-40'}\n",
        "                                                    ],\n",
        "                                            value='ALL',\n",
        "                                            placeholder=\"Select a Launch Site here\", \n",
        "                                            searchable=True),\n",
        "                                html.Br(),\n",
        "\n",
        "                                # TASK 2: Add a pie chart to show the total successful launches count for all sites\n",
        "                                # If a specific launch site was selected, show the Success vs. Failed counts for the site\n",
        "                                html.Div(dcc.Graph(id='success-pie-chart')),\n",
        "                                html.Br(),\n",
        "\n",
        "                                html.P(\"Payload range (Kg):\"),\n",
        "                                # TASK 3: Add a slider to select payload range\n",
        "                                dcc.RangeSlider(id='payload-slider',\n",
        "                                                min=0,max=10000,step=1000,\n",
        "                                                value=[min_payload,max_payload],\n",
        "                                                marks={0: '0', 2500:'2500',5000:'5000',\n",
        "                                                7500:'7500', 10000: '10000'}),\n",
        "\n",
        "                                # TASK 4: Add a scatter chart to show the correlation between payload and launch success\n",
        "                                html.Div(dcc.Graph(id='success-payload-scatter-chart')),\n",
        "                                ])\n",
        "\n",
        "# TASK 2:\n",
        "# Add a callback function for `site-dropdown` as input, `success-pie-chart` as output\n",
        "@app.callback(\n",
        "    Output(component_id='success-pie-chart', component_property='figure'),\n",
        "    Input(component_id='site-dropdown', component_property='value'))\n",
        "\n",
        "def build_graph(site_dropdown):\n",
        "    if site_dropdown == 'ALL':\n",
        "        palette = px.colors.qualitative.Plotly\n",
        "        piechart = px.pie(data_frame = spacex_df, names='Launch Site', values='class',\n",
        "                          title='Total Launches for All Sites',\n",
        "                          color_discrete_sequence=[palette[0], palette[1], palette[2], palette[4]])\n",
        "        return piechart\n",
        "    else:\n",
        "        specific_df = spacex_df.loc[spacex_df['Launch Site'] == site_dropdown]\n",
        "        piechart = px.pie(data_frame = specific_df, names='class',\n",
        "                          title='Total Launch for a Specific Site')\n",
        "        return piechart\n",
        "\n",
        "# TASK 4:\n",
        "# Add a callback function for `site-dropdown` and `payload-slider` as inputs, `success-payload-scatter-chart` as output\n",
        "@app.callback(\n",
        "    Output(component_id='success-payload-scatter-chart', component_property='figure'),\n",
        "    [Input(component_id='site-dropdown', component_property='value'),\n",
        "    Input(component_id='payload-slider', component_property='value')])\n",
        "\n",
        "def update_graph(site_dropdown, payload_slider):\n",
        "    if site_dropdown == 'ALL':\n",
        "        filtered_data = spacex_df[(spacex_df['Payload Mass (kg)']>=payload_slider[0])\n",
        "                                    &(spacex_df['Payload Mass (kg)']<=payload_slider[1])]\n",
        "        scatterplot = px.scatter(data_frame=filtered_data, \n",
        "                                 x=\"Payload Mass (kg)\", y=\"class\", \n",
        "                                 color=\"Booster Version Category\")\n",
        "        scatterplot.update_traces(marker=dict(size=17))\n",
        "        return scatterplot\n",
        "    else:\n",
        "        specific_df=spacex_df.loc[spacex_df['Launch Site'] == site_dropdown]\n",
        "        filtered_data = specific_df[(specific_df['Payload Mass (kg)']>=payload_slider[0])\n",
        "        &(spacex_df['Payload Mass (kg)']<=payload_slider[1])]\n",
        "        scatterplot = px.scatter(data_frame=filtered_data, \n",
        "                                 x=\"Payload Mass (kg)\", y=\"class\", \n",
        "                                 color=\"Booster Version Category\")\n",
        "        scatterplot.update_traces(marker=dict(size=17))\n",
        "        return scatterplot\n",
        "\n",
        "# Run the app\n",
        "# if __name__ == '__main__':\n",
        "#     app.run_server()\n",
        "if __name__ == '__main__':\n",
        "    app.run_server(mode='inline')"
      ],
      "metadata": {
        "colab": {
          "base_uri": "https://localhost:8080/",
          "height": 671
        },
        "id": "1zObxkGOaFjB",
        "outputId": "9aed0cb5-78e6-40b1-d7a2-54fbf72a7a08"
      },
      "execution_count": 7,
      "outputs": [
        {
          "output_type": "display_data",
          "data": {
            "text/plain": [
              "<IPython.core.display.Javascript object>"
            ],
            "application/javascript": [
              "(async (port, path, width, height, cache, element) => {\n",
              "    if (!google.colab.kernel.accessAllowed && !cache) {\n",
              "      return;\n",
              "    }\n",
              "    element.appendChild(document.createTextNode(''));\n",
              "    const url = await google.colab.kernel.proxyPort(port, {cache});\n",
              "    const iframe = document.createElement('iframe');\n",
              "    iframe.src = new URL(path, url).toString();\n",
              "    iframe.height = height;\n",
              "    iframe.width = width;\n",
              "    iframe.style.border = 0;\n",
              "    iframe.allow = [\n",
              "        'accelerometer',\n",
              "        'autoplay',\n",
              "        'camera',\n",
              "        'clipboard-read',\n",
              "        'clipboard-write',\n",
              "        'gyroscope',\n",
              "        'magnetometer',\n",
              "        'microphone',\n",
              "        'serial',\n",
              "        'usb',\n",
              "        'xr-spatial-tracking',\n",
              "    ].join('; ');\n",
              "    element.appendChild(iframe);\n",
              "  })(8050, \"/\", \"100%\", 650, false, window.element)"
            ]
          },
          "metadata": {}
        }
      ]
    },
    {
      "cell_type": "code",
      "source": [],
      "metadata": {
        "id": "5KUZqXm4li4f"
      },
      "execution_count": 4,
      "outputs": []
    }
  ]
}